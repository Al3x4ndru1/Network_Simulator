{
 "cells": [
  {
   "cell_type": "markdown",
   "metadata": {},
   "source": [
    "# Overview"
   ]
  },
  {
   "cell_type": "markdown",
   "metadata": {},
   "source": [
    "---------------------------------------"
   ]
  },
  {
   "cell_type": "markdown",
   "metadata": {},
   "source": []
  },
  {
   "cell_type": "markdown",
   "metadata": {},
   "source": [
    "-----------------------------------"
   ]
  },
  {
   "cell_type": "markdown",
   "metadata": {},
   "source": [
    "## Mininet Simulator"
   ]
  },
  {
   "cell_type": "markdown",
   "metadata": {},
   "source": [
    "<center><figure><img src=\"figs/Hypervisor.png\" alt=\"Hypervisor.png\"><figcaption>VMware Hypervisor</figcaption></figure></center>"
   ]
  },
  {
   "cell_type": "markdown",
   "metadata": {},
   "source": [
    "<center><figure><img src=\"figs/Start_Simulator.png\" alt=\"Start_Simulator.png\"><figcaption>Start Simulator</figcaption></figure></center>"
   ]
  },
  {
   "cell_type": "markdown",
   "metadata": {},
   "source": [
    "<center><figure><img src=\"figs/ODL_Web_Empty.png\" alt=\"ODL_Web_Empty.png\"><figcaption>ODL Web Empty</figcaption></figure></center>"
   ]
  },
  {
   "cell_type": "markdown",
   "metadata": {},
   "source": [
    "<center><figure><img src=\"figs/Create_Topology.png\" alt=\"Create_Topology.png\"><figcaption>Create Topology Request</figcaption></figure></center>"
   ]
  },
  {
   "cell_type": "markdown",
   "metadata": {},
   "source": [
    "<center><figure><img src=\"figs/ODL_Web_Topology_Created.png\" alt=\"ODL_Web_Topology_Created.png\"><figcaption>ODL Web Topology Created</figcaption></figure></center>"
   ]
  },
  {
   "cell_type": "markdown",
   "metadata": {},
   "source": [
    "<center><figure><img src=\"figs/Commands.png\" alt=\"Commands.png\"><figcaption>Commands Request</figcaption></figure></center>"
   ]
  },
  {
   "cell_type": "markdown",
   "metadata": {},
   "source": [
    "<center><figure><img src=\"figs/ODL_Web_Commands.png\" alt=\"ODL_Web_Commands.png\"><figcaption>ODL Web Commands</figcaption></figure></center>"
   ]
  },
  {
   "cell_type": "markdown",
   "metadata": {},
   "source": [
    "<center><figure><img src=\"figs/Stop.png\" alt=\"Stop.png\"><figcaption>Stop Request</figcaption></figure></center>"
   ]
  },
  {
   "cell_type": "markdown",
   "metadata": {},
   "source": [
    "<center><figure><img src=\"figs/Database.png\" alt=\"Database.png\"><figcaption>Database</figcaption></figure></center>"
   ]
  }
 ],
 "metadata": {
  "language_info": {
   "name": "python"
  }
 },
 "nbformat": 4,
 "nbformat_minor": 2
}
